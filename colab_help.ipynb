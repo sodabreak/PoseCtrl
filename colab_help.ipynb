{
 "cells": [
  {
   "cell_type": "code",
   "execution_count": null,
   "metadata": {},
   "outputs": [],
   "source": [
    "!apt-get install unrar\n",
    "!unrar x /content/drive/MyDrive/pic.rar -o+ /content/"
   ]
  },
  {
   "cell_type": "code",
   "execution_count": null,
   "metadata": {},
   "outputs": [],
   "source": [
    "import torch\n",
    "import torch\n",
    "from pathlib import Path\n",
    "def change_checkpoint(checkpoint_path, new_checkpoint_path):\n",
    "    sd = torch.load(checkpoint_path, map_location=\"cpu\")\n",
    "    vpmatrix_points_sd = {}\n",
    "    atten_sd = {}\n",
    "    proj_sd={}\n",
    "    for k in sd:\n",
    "        if k.startswith(\"unet\"):\n",
    "            pass\n",
    "        elif k.startswith(\"vpmatrix_points\"):\n",
    "            vpmatrix_points_sd[k.replace(\"vpmatrix_points.\", \"\")] = sd[k]\n",
    "        elif k.startswith(\"atten_modules\"):\n",
    "            atten_sd[k.replace(\"atten_modules.\", \"\")] = sd[k]\n",
    "        elif k.startswith(\"image_proj_model\"):\n",
    "            proj_sd[k.replace(\"image_proj_model.\", \"\")] = sd[k]\n",
    "    new_checkpoint_path = Path(new_checkpoint_path, \"posectrl.bin\")\n",
    "    print(vpmatrix_points_sd)\n",
    "    print(atten_sd)\n",
    "    print(proj_sd)\n",
    "    for name in sd['state'].keys():\n",
    "        print(name)\n",
    "    torch.save({\"vpmatrix_points\": vpmatrix_points_sd, \"atten_modules\": atten_sd, \"image_proj_model\": proj_sd}, new_checkpoint_path)\n",
    "    print(f\"Saved new checkpoint to {new_checkpoint_path}\")\n",
    "\n",
    "ckpt = r\"F:\\Projects\\diffusers\\Project\\PoseCtrl\\sd-pose_ctrl\\model.safetensors\"\n",
    "\n",
    "change_checkpoint(ckpt, r\"/content/\")\n"
   ]
  },
  {
   "cell_type": "code",
   "execution_count": null,
   "metadata": {},
   "outputs": [],
   "source": []
  }
 ],
 "metadata": {
  "kernelspec": {
   "display_name": "cameractrl",
   "language": "python",
   "name": "python3"
  },
  "language_info": {
   "name": "python",
   "version": "3.10.16"
  }
 },
 "nbformat": 4,
 "nbformat_minor": 2
}
